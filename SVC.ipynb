{
 "cells": [
  {
   "cell_type": "code",
   "execution_count": 1,
   "id": "493eeb41",
   "metadata": {
    "ExecuteTime": {
     "end_time": "2023-02-05T09:15:32.299715Z",
     "start_time": "2023-02-05T09:15:29.409660Z"
    }
   },
   "outputs": [],
   "source": [
    "import pandas as pd\n",
    "import numpy as np\n",
    "import matplotlib.pyplot as plt\n",
    "import seaborn as sns\n",
    "%matplotlib inline"
   ]
  },
  {
   "cell_type": "code",
   "execution_count": 2,
   "id": "8ca10464",
   "metadata": {
    "ExecuteTime": {
     "end_time": "2023-02-05T09:15:32.313469Z",
     "start_time": "2023-02-05T09:15:32.304746Z"
    }
   },
   "outputs": [],
   "source": [
    "cols = ['SL',\"SW\",'PL','PW','Class']"
   ]
  },
  {
   "cell_type": "code",
   "execution_count": 3,
   "id": "c2238d98",
   "metadata": {
    "ExecuteTime": {
     "end_time": "2023-02-05T09:15:33.617839Z",
     "start_time": "2023-02-05T09:15:32.318344Z"
    }
   },
   "outputs": [],
   "source": [
    "df = pd.read_csv('https://archive.ics.uci.edu/ml/machine-learning-databases/iris/iris.data', header=None, names=cols)"
   ]
  },
  {
   "cell_type": "code",
   "execution_count": 4,
   "id": "9dc96083",
   "metadata": {
    "ExecuteTime": {
     "end_time": "2023-02-05T09:15:33.716600Z",
     "start_time": "2023-02-05T09:15:33.630833Z"
    }
   },
   "outputs": [
    {
     "data": {
      "text/html": [
       "<div>\n",
       "<style scoped>\n",
       "    .dataframe tbody tr th:only-of-type {\n",
       "        vertical-align: middle;\n",
       "    }\n",
       "\n",
       "    .dataframe tbody tr th {\n",
       "        vertical-align: top;\n",
       "    }\n",
       "\n",
       "    .dataframe thead th {\n",
       "        text-align: right;\n",
       "    }\n",
       "</style>\n",
       "<table border=\"1\" class=\"dataframe\">\n",
       "  <thead>\n",
       "    <tr style=\"text-align: right;\">\n",
       "      <th></th>\n",
       "      <th>SL</th>\n",
       "      <th>SW</th>\n",
       "      <th>PL</th>\n",
       "      <th>PW</th>\n",
       "      <th>Class</th>\n",
       "    </tr>\n",
       "  </thead>\n",
       "  <tbody>\n",
       "    <tr>\n",
       "      <th>0</th>\n",
       "      <td>5.1</td>\n",
       "      <td>3.5</td>\n",
       "      <td>1.4</td>\n",
       "      <td>0.2</td>\n",
       "      <td>Iris-setosa</td>\n",
       "    </tr>\n",
       "    <tr>\n",
       "      <th>1</th>\n",
       "      <td>4.9</td>\n",
       "      <td>3.0</td>\n",
       "      <td>1.4</td>\n",
       "      <td>0.2</td>\n",
       "      <td>Iris-setosa</td>\n",
       "    </tr>\n",
       "    <tr>\n",
       "      <th>2</th>\n",
       "      <td>4.7</td>\n",
       "      <td>3.2</td>\n",
       "      <td>1.3</td>\n",
       "      <td>0.2</td>\n",
       "      <td>Iris-setosa</td>\n",
       "    </tr>\n",
       "    <tr>\n",
       "      <th>3</th>\n",
       "      <td>4.6</td>\n",
       "      <td>3.1</td>\n",
       "      <td>1.5</td>\n",
       "      <td>0.2</td>\n",
       "      <td>Iris-setosa</td>\n",
       "    </tr>\n",
       "    <tr>\n",
       "      <th>4</th>\n",
       "      <td>5.0</td>\n",
       "      <td>3.6</td>\n",
       "      <td>1.4</td>\n",
       "      <td>0.2</td>\n",
       "      <td>Iris-setosa</td>\n",
       "    </tr>\n",
       "    <tr>\n",
       "      <th>...</th>\n",
       "      <td>...</td>\n",
       "      <td>...</td>\n",
       "      <td>...</td>\n",
       "      <td>...</td>\n",
       "      <td>...</td>\n",
       "    </tr>\n",
       "    <tr>\n",
       "      <th>145</th>\n",
       "      <td>6.7</td>\n",
       "      <td>3.0</td>\n",
       "      <td>5.2</td>\n",
       "      <td>2.3</td>\n",
       "      <td>Iris-virginica</td>\n",
       "    </tr>\n",
       "    <tr>\n",
       "      <th>146</th>\n",
       "      <td>6.3</td>\n",
       "      <td>2.5</td>\n",
       "      <td>5.0</td>\n",
       "      <td>1.9</td>\n",
       "      <td>Iris-virginica</td>\n",
       "    </tr>\n",
       "    <tr>\n",
       "      <th>147</th>\n",
       "      <td>6.5</td>\n",
       "      <td>3.0</td>\n",
       "      <td>5.2</td>\n",
       "      <td>2.0</td>\n",
       "      <td>Iris-virginica</td>\n",
       "    </tr>\n",
       "    <tr>\n",
       "      <th>148</th>\n",
       "      <td>6.2</td>\n",
       "      <td>3.4</td>\n",
       "      <td>5.4</td>\n",
       "      <td>2.3</td>\n",
       "      <td>Iris-virginica</td>\n",
       "    </tr>\n",
       "    <tr>\n",
       "      <th>149</th>\n",
       "      <td>5.9</td>\n",
       "      <td>3.0</td>\n",
       "      <td>5.1</td>\n",
       "      <td>1.8</td>\n",
       "      <td>Iris-virginica</td>\n",
       "    </tr>\n",
       "  </tbody>\n",
       "</table>\n",
       "<p>150 rows × 5 columns</p>\n",
       "</div>"
      ],
      "text/plain": [
       "      SL   SW   PL   PW           Class\n",
       "0    5.1  3.5  1.4  0.2     Iris-setosa\n",
       "1    4.9  3.0  1.4  0.2     Iris-setosa\n",
       "2    4.7  3.2  1.3  0.2     Iris-setosa\n",
       "3    4.6  3.1  1.5  0.2     Iris-setosa\n",
       "4    5.0  3.6  1.4  0.2     Iris-setosa\n",
       "..   ...  ...  ...  ...             ...\n",
       "145  6.7  3.0  5.2  2.3  Iris-virginica\n",
       "146  6.3  2.5  5.0  1.9  Iris-virginica\n",
       "147  6.5  3.0  5.2  2.0  Iris-virginica\n",
       "148  6.2  3.4  5.4  2.3  Iris-virginica\n",
       "149  5.9  3.0  5.1  1.8  Iris-virginica\n",
       "\n",
       "[150 rows x 5 columns]"
      ]
     },
     "execution_count": 4,
     "metadata": {},
     "output_type": "execute_result"
    }
   ],
   "source": [
    "df"
   ]
  },
  {
   "cell_type": "code",
   "execution_count": 5,
   "id": "041a88b1",
   "metadata": {
    "ExecuteTime": {
     "end_time": "2023-02-05T09:15:33.741483Z",
     "start_time": "2023-02-05T09:15:33.720321Z"
    }
   },
   "outputs": [],
   "source": [
    "# sns.pairplot(df, hue = 'Class')"
   ]
  },
  {
   "cell_type": "code",
   "execution_count": 6,
   "id": "9f71f3c2",
   "metadata": {
    "ExecuteTime": {
     "end_time": "2023-02-05T09:15:33.986593Z",
     "start_time": "2023-02-05T09:15:33.747317Z"
    }
   },
   "outputs": [],
   "source": [
    "from sklearn.preprocessing import LabelEncoder"
   ]
  },
  {
   "cell_type": "code",
   "execution_count": 7,
   "id": "a11174e8",
   "metadata": {
    "ExecuteTime": {
     "end_time": "2023-02-05T09:15:34.001916Z",
     "start_time": "2023-02-05T09:15:33.990358Z"
    }
   },
   "outputs": [],
   "source": [
    "le = LabelEncoder()\n",
    "\n",
    "y = le.fit_transform(df['Class'])"
   ]
  },
  {
   "cell_type": "code",
   "execution_count": 8,
   "id": "55bb00a5",
   "metadata": {
    "ExecuteTime": {
     "end_time": "2023-02-05T09:15:34.016427Z",
     "start_time": "2023-02-05T09:15:34.005261Z"
    }
   },
   "outputs": [
    {
     "data": {
      "text/plain": [
       "array([0, 0, 0, 0, 0, 0, 0, 0, 0, 0, 0, 0, 0, 0, 0, 0, 0, 0, 0, 0, 0, 0,\n",
       "       0, 0, 0, 0, 0, 0, 0, 0, 0, 0, 0, 0, 0, 0, 0, 0, 0, 0, 0, 0, 0, 0,\n",
       "       0, 0, 0, 0, 0, 0, 1, 1, 1, 1, 1, 1, 1, 1, 1, 1, 1, 1, 1, 1, 1, 1,\n",
       "       1, 1, 1, 1, 1, 1, 1, 1, 1, 1, 1, 1, 1, 1, 1, 1, 1, 1, 1, 1, 1, 1,\n",
       "       1, 1, 1, 1, 1, 1, 1, 1, 1, 1, 1, 1, 2, 2, 2, 2, 2, 2, 2, 2, 2, 2,\n",
       "       2, 2, 2, 2, 2, 2, 2, 2, 2, 2, 2, 2, 2, 2, 2, 2, 2, 2, 2, 2, 2, 2,\n",
       "       2, 2, 2, 2, 2, 2, 2, 2, 2, 2, 2, 2, 2, 2, 2, 2, 2, 2])"
      ]
     },
     "execution_count": 8,
     "metadata": {},
     "output_type": "execute_result"
    }
   ],
   "source": [
    "x = df.iloc[:,:-1]\n",
    "y"
   ]
  },
  {
   "cell_type": "code",
   "execution_count": 9,
   "id": "f11a0088",
   "metadata": {
    "ExecuteTime": {
     "end_time": "2023-02-05T09:15:34.278448Z",
     "start_time": "2023-02-05T09:15:34.019538Z"
    }
   },
   "outputs": [],
   "source": [
    "from sklearn.svm import SVC\n",
    "from sklearn.model_selection import train_test_split"
   ]
  },
  {
   "cell_type": "code",
   "execution_count": 10,
   "id": "2f1cfdd4",
   "metadata": {
    "ExecuteTime": {
     "end_time": "2023-02-05T09:15:34.318759Z",
     "start_time": "2023-02-05T09:15:34.290084Z"
    }
   },
   "outputs": [],
   "source": [
    "xtrain,xtest,ytrain,ytest = train_test_split(x,y, test_size=0.25, random_state=1)"
   ]
  },
  {
   "cell_type": "code",
   "execution_count": 11,
   "id": "df2e3435",
   "metadata": {
    "ExecuteTime": {
     "end_time": "2023-02-05T09:15:34.361639Z",
     "start_time": "2023-02-05T09:15:34.324072Z"
    }
   },
   "outputs": [],
   "source": [
    "svm = SVC()\n",
    "\n",
    "svm.fit(xtrain,ytrain)\n",
    "\n",
    "ypred = svm.predict(xtest)"
   ]
  },
  {
   "cell_type": "code",
   "execution_count": 12,
   "id": "67431a48",
   "metadata": {
    "ExecuteTime": {
     "end_time": "2023-02-05T09:15:34.394681Z",
     "start_time": "2023-02-05T09:15:34.367611Z"
    }
   },
   "outputs": [
    {
     "data": {
      "text/plain": [
       "array([0, 1, 1, 0, 2, 1, 2, 0, 0, 2, 1, 0, 2, 1, 1, 0, 1, 1, 0, 0, 1, 1,\n",
       "       2, 0, 2, 1, 0, 0, 1, 2, 1, 2, 1, 2, 2, 0, 1, 0])"
      ]
     },
     "execution_count": 12,
     "metadata": {},
     "output_type": "execute_result"
    }
   ],
   "source": [
    "ypred"
   ]
  },
  {
   "cell_type": "code",
   "execution_count": 13,
   "id": "7522a3a3",
   "metadata": {
    "ExecuteTime": {
     "end_time": "2023-02-05T09:15:34.426371Z",
     "start_time": "2023-02-05T09:15:34.402981Z"
    }
   },
   "outputs": [],
   "source": [
    "from sklearn.metrics import classification_report,confusion_matrix"
   ]
  },
  {
   "cell_type": "code",
   "execution_count": 14,
   "id": "8d67e67d",
   "metadata": {
    "ExecuteTime": {
     "end_time": "2023-02-05T09:15:34.466053Z",
     "start_time": "2023-02-05T09:15:34.430897Z"
    }
   },
   "outputs": [
    {
     "name": "stdout",
     "output_type": "stream",
     "text": [
      "              precision    recall  f1-score   support\n",
      "\n",
      "           0       1.00      1.00      1.00        13\n",
      "           1       1.00      0.94      0.97        16\n",
      "           2       0.90      1.00      0.95         9\n",
      "\n",
      "    accuracy                           0.97        38\n",
      "   macro avg       0.97      0.98      0.97        38\n",
      "weighted avg       0.98      0.97      0.97        38\n",
      "\n"
     ]
    }
   ],
   "source": [
    "print(classification_report(ytest,ypred))"
   ]
  },
  {
   "cell_type": "code",
   "execution_count": 15,
   "id": "02bf35b4",
   "metadata": {
    "ExecuteTime": {
     "end_time": "2023-02-05T09:15:34.507854Z",
     "start_time": "2023-02-05T09:15:34.467543Z"
    }
   },
   "outputs": [
    {
     "data": {
      "text/plain": [
       "(0.9732142857142857, 0.9736842105263158)"
      ]
     },
     "execution_count": 15,
     "metadata": {},
     "output_type": "execute_result"
    }
   ],
   "source": [
    "svm.score(xtrain,ytrain), svm.score(xtest,ytest)"
   ]
  },
  {
   "cell_type": "code",
   "execution_count": 16,
   "id": "6d283ce3",
   "metadata": {
    "ExecuteTime": {
     "end_time": "2023-02-05T09:15:34.524570Z",
     "start_time": "2023-02-05T09:15:34.512860Z"
    }
   },
   "outputs": [],
   "source": [
    "from sklearn.model_selection import GridSearchCV"
   ]
  },
  {
   "cell_type": "code",
   "execution_count": 17,
   "id": "f522df44",
   "metadata": {
    "ExecuteTime": {
     "end_time": "2023-02-05T09:15:34.540946Z",
     "start_time": "2023-02-05T09:15:34.528277Z"
    }
   },
   "outputs": [],
   "source": [
    "svc = SVC()"
   ]
  },
  {
   "cell_type": "code",
   "execution_count": 18,
   "id": "93cbca32",
   "metadata": {
    "ExecuteTime": {
     "end_time": "2023-02-05T09:15:34.565471Z",
     "start_time": "2023-02-05T09:15:34.544828Z"
    }
   },
   "outputs": [],
   "source": [
    "params = {\n",
    "    'C' : [0.01,0.001,1,10,18],\n",
    "    'kernel' : ['linear','rbf','poly'],\n",
    "    'gamma' : [0.1,1,2,3,4,5]\n",
    "}"
   ]
  },
  {
   "cell_type": "code",
   "execution_count": 19,
   "id": "ce5508bf",
   "metadata": {
    "ExecuteTime": {
     "end_time": "2023-02-05T09:15:34.616525Z",
     "start_time": "2023-02-05T09:15:34.573600Z"
    }
   },
   "outputs": [],
   "source": [
    "grid = GridSearchCV(SVC(), param_grid=params)"
   ]
  },
  {
   "cell_type": "code",
   "execution_count": 20,
   "id": "f1ec235e",
   "metadata": {
    "ExecuteTime": {
     "end_time": "2023-02-05T09:15:51.145524Z",
     "start_time": "2023-02-05T09:15:34.621627Z"
    }
   },
   "outputs": [
    {
     "data": {
      "text/plain": [
       "GridSearchCV(estimator=SVC(),\n",
       "             param_grid={'C': [0.01, 0.001, 1, 10, 18],\n",
       "                         'gamma': [0.1, 1, 2, 3, 4, 5],\n",
       "                         'kernel': ['linear', 'rbf', 'poly']})"
      ]
     },
     "execution_count": 20,
     "metadata": {},
     "output_type": "execute_result"
    }
   ],
   "source": [
    "grid.fit(xtrain,ytrain)"
   ]
  },
  {
   "cell_type": "code",
   "execution_count": 21,
   "id": "ffc9e5c2",
   "metadata": {
    "ExecuteTime": {
     "end_time": "2023-02-05T09:15:51.167310Z",
     "start_time": "2023-02-05T09:15:51.148852Z"
    }
   },
   "outputs": [
    {
     "data": {
      "text/plain": [
       "{'C': 1, 'gamma': 0.1, 'kernel': 'linear'}"
      ]
     },
     "execution_count": 21,
     "metadata": {},
     "output_type": "execute_result"
    }
   ],
   "source": [
    "grid.best_params_"
   ]
  },
  {
   "cell_type": "code",
   "execution_count": 22,
   "id": "42abf7ac",
   "metadata": {
    "ExecuteTime": {
     "end_time": "2023-02-05T09:15:51.184666Z",
     "start_time": "2023-02-05T09:15:51.173004Z"
    }
   },
   "outputs": [
    {
     "data": {
      "text/plain": [
       "0.982213438735178"
      ]
     },
     "execution_count": 22,
     "metadata": {},
     "output_type": "execute_result"
    }
   ],
   "source": [
    "grid.best_score_"
   ]
  },
  {
   "cell_type": "code",
   "execution_count": 23,
   "id": "dcda6f2b",
   "metadata": {
    "ExecuteTime": {
     "end_time": "2023-02-05T09:15:51.199749Z",
     "start_time": "2023-02-05T09:15:51.188232Z"
    }
   },
   "outputs": [],
   "source": [
    "model = SVC(C = 1, gamma = 0.1, kernel = 'linear')"
   ]
  },
  {
   "cell_type": "code",
   "execution_count": 24,
   "id": "f5714675",
   "metadata": {
    "ExecuteTime": {
     "end_time": "2023-02-05T09:15:51.231711Z",
     "start_time": "2023-02-05T09:15:51.203885Z"
    }
   },
   "outputs": [],
   "source": [
    "model.fit(xtrain,ytrain)\n",
    "\n",
    "ypred =  model.predict(xtest)"
   ]
  },
  {
   "cell_type": "code",
   "execution_count": 25,
   "id": "5a51c426",
   "metadata": {
    "ExecuteTime": {
     "end_time": "2023-02-05T09:15:51.279377Z",
     "start_time": "2023-02-05T09:15:51.242527Z"
    }
   },
   "outputs": [
    {
     "name": "stdout",
     "output_type": "stream",
     "text": [
      "              precision    recall  f1-score   support\n",
      "\n",
      "           0       1.00      1.00      1.00        13\n",
      "           1       1.00      1.00      1.00        16\n",
      "           2       1.00      1.00      1.00         9\n",
      "\n",
      "    accuracy                           1.00        38\n",
      "   macro avg       1.00      1.00      1.00        38\n",
      "weighted avg       1.00      1.00      1.00        38\n",
      "\n"
     ]
    }
   ],
   "source": [
    "print(classification_report(ytest,ypred))"
   ]
  },
  {
   "cell_type": "code",
   "execution_count": 26,
   "id": "05a5ab43",
   "metadata": {
    "ExecuteTime": {
     "end_time": "2023-02-05T09:15:51.311007Z",
     "start_time": "2023-02-05T09:15:51.280515Z"
    }
   },
   "outputs": [
    {
     "data": {
      "text/plain": [
       "(0.9821428571428571, 1.0)"
      ]
     },
     "execution_count": 26,
     "metadata": {},
     "output_type": "execute_result"
    }
   ],
   "source": [
    "model.score(xtrain,ytrain), model.score(xtest,ytest)"
   ]
  },
  {
   "cell_type": "code",
   "execution_count": 27,
   "id": "a9d6045e",
   "metadata": {
    "ExecuteTime": {
     "end_time": "2023-02-05T09:15:51.334275Z",
     "start_time": "2023-02-05T09:15:51.311007Z"
    }
   },
   "outputs": [],
   "source": [
    "import pickle"
   ]
  },
  {
   "cell_type": "code",
   "execution_count": 28,
   "id": "cc0b8fec",
   "metadata": {
    "ExecuteTime": {
     "end_time": "2023-02-05T09:15:51.366148Z",
     "start_time": "2023-02-05T09:15:51.341260Z"
    }
   },
   "outputs": [],
   "source": [
    "pickle.dump(model, open('model.pkl','wb'))"
   ]
  },
  {
   "cell_type": "code",
   "execution_count": null,
   "id": "5807f516",
   "metadata": {},
   "outputs": [],
   "source": []
  }
 ],
 "metadata": {
  "kernelspec": {
   "display_name": "Python 3 (ipykernel)",
   "language": "python",
   "name": "python3"
  },
  "language_info": {
   "codemirror_mode": {
    "name": "ipython",
    "version": 3
   },
   "file_extension": ".py",
   "mimetype": "text/x-python",
   "name": "python",
   "nbconvert_exporter": "python",
   "pygments_lexer": "ipython3",
   "version": "3.9.13"
  }
 },
 "nbformat": 4,
 "nbformat_minor": 5
}
